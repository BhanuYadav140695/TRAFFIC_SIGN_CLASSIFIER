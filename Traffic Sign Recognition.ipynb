{
 "cells": [
  {
   "cell_type": "markdown",
   "id": "503adcaf",
   "metadata": {},
   "source": [
    "# Traffic Signs Recognition"
   ]
  },
  {
   "cell_type": "markdown",
   "id": "16f7791d",
   "metadata": {},
   "source": [
    "## Aim: In this Python project, we will build a deep neural network model that can classify traffic signs present in the image into different categories. With this model, we are able to read and understand traffic signs which are a very important task for all autonomous vehicles."
   ]
  },
  {
   "cell_type": "code",
   "execution_count": 1,
   "id": "36d13637",
   "metadata": {},
   "outputs": [],
   "source": [
    "import numpy as np \n",
    "import pandas as pd \n",
    "import matplotlib.pyplot as plt\n",
    "import cv2\n",
    "import tensorflow as tf\n",
    "from PIL import Image\n",
    "import os\n",
    "from sklearn.model_selection import train_test_split\n",
    "from keras.models import Sequential, load_model\n",
    "from keras.layers import Conv2D, MaxPool2D, Dense, Flatten, Dropout\n",
    "import keras_tuner as Keras_Tuner \n"
   ]
  },
  {
   "cell_type": "code",
   "execution_count": 2,
   "id": "8f9392da",
   "metadata": {},
   "outputs": [],
   "source": [
    "data = []\n",
    "labels = []\n",
    "classes = 43\n",
    "cur_path = os.getcwd()"
   ]
  },
  {
   "cell_type": "code",
   "execution_count": 3,
   "id": "acf9f98f",
   "metadata": {},
   "outputs": [],
   "source": [
    "#Retrieving the images and their labels \n",
    "for i in range(classes):\n",
    "    path = os.path.join(cur_path,'train',str(i))\n",
    "    images = os.listdir(path)\n",
    "    for a in images:\n",
    "        try:\n",
    "            image = Image.open(path + '\\\\'+ a)\n",
    "            image = image.resize((30,30))\n",
    "            image = np.array(image)\n",
    "            #sim = Image.fromarray(image)\n",
    "            data.append(image)\n",
    "            labels.append(i)\n",
    "        except:\n",
    "            print(\"Error loading image\")"
   ]
  },
  {
   "cell_type": "code",
   "execution_count": 4,
   "id": "42d97859",
   "metadata": {},
   "outputs": [],
   "source": [
    "#Converting lists into numpy arrays\n",
    "data = np.array(data)\n",
    "labels = np.array(labels)"
   ]
  },
  {
   "cell_type": "code",
   "execution_count": 5,
   "id": "4a0f5744",
   "metadata": {},
   "outputs": [
    {
     "name": "stdout",
     "output_type": "stream",
     "text": [
      "(39209, 30, 30, 3) (39209,)\n"
     ]
    }
   ],
   "source": [
    "print(data.shape, labels.shape)"
   ]
  },
  {
   "cell_type": "code",
   "execution_count": 6,
   "id": "45bc2e34",
   "metadata": {},
   "outputs": [],
   "source": [
    "#Splitting training and testing dataset\n",
    "X_train, X_test, y_train, y_test = train_test_split(data, labels, test_size=0.2, random_state=42)"
   ]
  },
  {
   "cell_type": "code",
   "execution_count": 7,
   "id": "8e5befc2",
   "metadata": {},
   "outputs": [
    {
     "name": "stdout",
     "output_type": "stream",
     "text": [
      "(31367, 30, 30, 3) (7842, 30, 30, 3) (31367,) (7842,)\n"
     ]
    }
   ],
   "source": [
    "print(X_train.shape, X_test.shape, y_train.shape, y_test.shape)"
   ]
  },
  {
   "cell_type": "code",
   "execution_count": 8,
   "id": "ddcfad58",
   "metadata": {},
   "outputs": [],
   "source": [
    "#Converting the labels into one hot encoding\n",
    "from tensorflow.keras.utils import to_categorical\n",
    "y_train = to_categorical(y_train, 43)\n",
    "y_test = to_categorical(y_test, 43)"
   ]
  },
  {
   "cell_type": "code",
   "execution_count": 9,
   "id": "9dff8ab6",
   "metadata": {},
   "outputs": [],
   "source": [
    "# #Building the model\n",
    "model = Sequential()\n",
    "model.add(Conv2D(filters=32, kernel_size=(5,5), activation='relu', input_shape=X_train.shape[1:]))\n",
    "model.add(Conv2D(filters=32, kernel_size=(5,5), activation='relu'))\n",
    "model.add(MaxPool2D(pool_size=(2, 2)))\n",
    "model.add(Dropout(rate=0.25))\n",
    "model.add(Conv2D(filters=64, kernel_size=(3, 3), activation='relu'))\n",
    "model.add(Conv2D(filters=64, kernel_size=(3, 3), activation='relu'))\n",
    "model.add(MaxPool2D(pool_size=(2, 2)))\n",
    "model.add(Dropout(rate=0.25))\n",
    "model.add(Flatten())\n",
    "model.add(Dense(256, activation='relu'))\n",
    "model.add(Dropout(rate=0.5))\n",
    "model.add(Dense(43, activation='softmax'))"
   ]
  },
  {
   "cell_type": "code",
   "execution_count": 10,
   "id": "29da02e1",
   "metadata": {},
   "outputs": [],
   "source": [
    "#Compilation of the model\n",
    "model.compile(loss='categorical_crossentropy', optimizer='adam', metrics=['accuracy'])"
   ]
  },
  {
   "cell_type": "code",
   "execution_count": 11,
   "id": "39da172f",
   "metadata": {},
   "outputs": [
    {
     "name": "stdout",
     "output_type": "stream",
     "text": [
      "Epoch 1/15\n",
      "981/981 [==============================] - 59s 59ms/step - loss: 1.9096 - accuracy: 0.5138 - val_loss: 0.4793 - val_accuracy: 0.8799\n",
      "Epoch 2/15\n",
      "981/981 [==============================] - 60s 61ms/step - loss: 0.5896 - accuracy: 0.8303 - val_loss: 0.1606 - val_accuracy: 0.9566\n",
      "Epoch 3/15\n",
      "981/981 [==============================] - 61s 62ms/step - loss: 0.3824 - accuracy: 0.8925 - val_loss: 0.1352 - val_accuracy: 0.9648\n",
      "Epoch 4/15\n",
      "981/981 [==============================] - 58s 59ms/step - loss: 0.2847 - accuracy: 0.9207 - val_loss: 0.1156 - val_accuracy: 0.9690\n",
      "Epoch 5/15\n",
      "981/981 [==============================] - 58s 59ms/step - loss: 0.2369 - accuracy: 0.9333 - val_loss: 0.0899 - val_accuracy: 0.9773\n",
      "Epoch 6/15\n",
      "981/981 [==============================] - 57s 58ms/step - loss: 0.2320 - accuracy: 0.9397 - val_loss: 0.0781 - val_accuracy: 0.9778\n",
      "Epoch 7/15\n",
      "981/981 [==============================] - 61s 62ms/step - loss: 0.2158 - accuracy: 0.9430 - val_loss: 0.0951 - val_accuracy: 0.9742\n",
      "Epoch 8/15\n",
      "981/981 [==============================] - 61s 62ms/step - loss: 0.2252 - accuracy: 0.9421 - val_loss: 0.1098 - val_accuracy: 0.9690\n",
      "Epoch 9/15\n",
      "981/981 [==============================] - 58s 59ms/step - loss: 0.1919 - accuracy: 0.9506 - val_loss: 0.0778 - val_accuracy: 0.9797\n",
      "Epoch 10/15\n",
      "981/981 [==============================] - 59s 60ms/step - loss: 0.2285 - accuracy: 0.9431 - val_loss: 0.0356 - val_accuracy: 0.9911\n",
      "Epoch 11/15\n",
      "981/981 [==============================] - 61s 62ms/step - loss: 0.2071 - accuracy: 0.9501 - val_loss: 0.0493 - val_accuracy: 0.9867\n",
      "Epoch 12/15\n",
      "981/981 [==============================] - 67s 68ms/step - loss: 0.2019 - accuracy: 0.9506 - val_loss: 0.0422 - val_accuracy: 0.9889\n",
      "Epoch 13/15\n",
      "981/981 [==============================] - 65s 67ms/step - loss: 0.2237 - accuracy: 0.9463 - val_loss: 0.0438 - val_accuracy: 0.9894\n",
      "Epoch 14/15\n",
      "981/981 [==============================] - 53s 54ms/step - loss: 0.2128 - accuracy: 0.9498 - val_loss: 0.0516 - val_accuracy: 0.9881\n",
      "Epoch 15/15\n",
      "981/981 [==============================] - 50s 51ms/step - loss: 0.2417 - accuracy: 0.9437 - val_loss: 0.0472 - val_accuracy: 0.9887\n"
     ]
    }
   ],
   "source": [
    "epochs = 15\n",
    "history = model.fit(X_train, y_train, batch_size=32, epochs=epochs, validation_data=(X_test, y_test))"
   ]
  },
  {
   "cell_type": "code",
   "execution_count": 12,
   "id": "582c2189",
   "metadata": {},
   "outputs": [
    {
     "data": {
      "image/png": "[encoded data removed]",
      "text/plain": [
       "<Figure size 432x288 with 1 Axes>"
      ]
     },
     "metadata": {
      "needs_background": "light"
     },
     "output_type": "display_data"
    },
    {
     "data": {
      "image/png": "[encoded data removed]",
      "text/plain": [
       "<Figure size 432x288 with 1 Axes>"
      ]
     },
     "metadata": {
      "needs_background": "light"
     },
     "output_type": "display_data"
    }
   ],
   "source": [
    "#plotting graphs for accuracy \n",
    "plt.figure(0)\n",
    "plt.plot(history.history['accuracy'], label='training accuracy')\n",
    "plt.plot(history.history['val_accuracy'], label='val accuracy')\n",
    "plt.title('Accuracy')\n",
    "plt.xlabel('epochs')\n",
    "plt.ylabel('accuracy')\n",
    "plt.legend()\n",
    "plt.show()\n",
    "plt.figure(1)\n",
    "plt.plot(history.history['loss'], label='training loss')\n",
    "plt.plot(history.history['val_loss'], label='val loss')\n",
    "plt.title('Loss')\n",
    "plt.xlabel('epochs')\n",
    "plt.ylabel('loss')\n",
    "plt.legend()\n",
    "plt.show()"
   ]
  },
  {
   "cell_type": "code",
   "execution_count": 13,
   "id": "16d95e7d",
   "metadata": {},
   "outputs": [],
   "source": [
    "# Hyperparameters Tune the Model\n",
    "!pip install -q -U keras-tuner"
   ]
  },
  {
   "cell_type": "code",
   "execution_count": 14,
   "id": "5489ecaf",
   "metadata": {},
   "outputs": [],
   "source": [
    "from sklearn.metrics import r2_score\n",
    "\n",
    "pre_1 = model.predict(X_test)"
   ]
  },
  {
   "cell_type": "code",
   "execution_count": 15,
   "id": "e77f58dc",
   "metadata": {},
   "outputs": [
    {
     "name": "stdout",
     "output_type": "stream",
     "text": [
      "98.0\n"
     ]
    }
   ],
   "source": [
    "print(np.round(r2_score(y_test,pre_1)*100,0))"
   ]
  },
  {
   "cell_type": "code",
   "execution_count": 72,
   "id": "9c25223e",
   "metadata": {},
   "outputs": [],
   "source": [
    "\n",
    "import keras_tuner as Keras_Tuner \n",
    "\n",
    "# Filter = \n",
    "# Kernal_Size = \n",
    "\n",
    "\n",
    "def Tuning_Model_build(hp):\n",
    "    Tuning_Model = Sequential()\n",
    "    Tuning_Model.add(Conv2D(filters=hp.Int(\"Filter_Size\" , min_value=32,max_value=128,step=32),kernel_size=hp.Choice('Kernal' , values=[3,5]),activation='relu',input_shape=(30,30,3)))\n",
    "    Tuning_Model.add(Conv2D(filters=hp.Int(\"Filter_Size1\" , min_value=32,max_value=128,step=32),kernel_size=hp.Choice('Kernal1' , values=[3,5]),activation='relu'))\n",
    "    Tuning_Model.add(MaxPool2D())\n",
    "    Tuning_Model.add(Dropout(rate=0.25))\n",
    "    Tuning_Model.add(Conv2D(filters=hp.Int(\"Filter_Size2\" , min_value=32,max_value=64,step=32),kernel_size=hp.Choice('Kernal2' , values=[3,5]),activation='relu'))\n",
    "    Tuning_Model.add(Conv2D(filters=hp.Int(\"Filter_Size3\" , min_value=32,max_value=64,step=32),kernel_size=hp.Choice('Kernal3' , values=[3,5]),activation='relu'))\n",
    "    Tuning_Model.add(MaxPool2D())\n",
    "    Tuning_Model.add(Dropout(rate=0.25))\n",
    "    Tuning_Model.add(Flatten())\n",
    "    Tuning_Model.add(Dense(units=hp.Int('dense_1_units', min_value=32, max_value=128),activation='relu'))\n",
    "    Tuning_Model.add(Dropout(rate=0.25))\n",
    "    Tuning_Model.add(Dense(43,activation='softmax'))\n",
    "    Tuning_Model.compile(optimizer='adam',\n",
    "                        loss='categorical_crossentropy',\n",
    "              metrics=['accuracy'])\n",
    "    return Tuning_Model"
   ]
  },
  {
   "cell_type": "code",
   "execution_count": null,
   "id": "107e23b4",
   "metadata": {},
   "outputs": [],
   "source": []
  },
  {
   "cell_type": "code",
   "execution_count": 73,
   "id": "f29cb95c",
   "metadata": {},
   "outputs": [],
   "source": [
    "from kerastuner import RandomSearch\n",
    "from kerastuner.engine.hyperparameters import HyperParameters"
   ]
  },
  {
   "cell_type": "code",
   "execution_count": 74,
   "id": "3d63d659",
   "metadata": {},
   "outputs": [],
   "source": [
    "Tuner_Search = RandomSearch(Tuning_Model_build,objective='val_accuracy',max_trials=5,directory='output',project_name=\"Traffic_Sign\",executions_per_trial=3,overwrite=True)"
   ]
  },
  {
   "cell_type": "code",
   "execution_count": 75,
   "id": "2c78b276",
   "metadata": {},
   "outputs": [
    {
     "name": "stdout",
     "output_type": "stream",
     "text": [
      "Trial 5 Complete [01h 18m 41s]\n",
      "val_accuracy: 0.3707387646039327\n",
      "\n",
      "Best val_accuracy So Far: 0.993028998374939\n",
      "Total elapsed time: 06h 26m 40s\n",
      "INFO:tensorflow:Oracle triggered exit\n"
     ]
    }
   ],
   "source": [
    "Tuner_Search.search(X_train,y_train,epochs=15,validation_data=(X_test,y_test))"
   ]
  },
  {
   "cell_type": "code",
   "execution_count": 76,
   "id": "0764e02c",
   "metadata": {},
   "outputs": [],
   "source": [
    "model=Tuner_Search.get_best_models(num_models=1)[0]"
   ]
  },
  {
   "cell_type": "code",
   "execution_count": 77,
   "id": "d818270f",
   "metadata": {},
   "outputs": [
    {
     "name": "stdout",
     "output_type": "stream",
     "text": [
      "Model: \"sequential\"\n",
      "_________________________________________________________________\n",
      " Layer (type)                Output Shape              Param #   \n",
      "=================================================================\n",
      " conv2d (Conv2D)             (None, 28, 28, 96)        2688      \n",
      "                                                                 \n",
      " conv2d_1 (Conv2D)           (None, 26, 26, 96)        83040     \n",
      "                                                                 \n",
      " max_pooling2d (MaxPooling2D  (None, 13, 13, 96)       0         \n",
      " )                                                               \n",
      "                                                                 \n",
      " dropout (Dropout)           (None, 13, 13, 96)        0         \n",
      "                                                                 \n",
      " conv2d_2 (Conv2D)           (None, 9, 9, 64)          153664    \n",
      "                                                                 \n",
      " conv2d_3 (Conv2D)           (None, 7, 7, 64)          36928     \n",
      "                                                                 \n",
      " max_pooling2d_1 (MaxPooling  (None, 3, 3, 64)         0         \n",
      " 2D)                                                             \n",
      "                                                                 \n",
      " dropout_1 (Dropout)         (None, 3, 3, 64)          0         \n",
      "                                                                 \n",
      " flatten (Flatten)           (None, 576)               0         \n",
      "                                                                 \n",
      " dense (Dense)               (None, 127)               73279     \n",
      "                                                                 \n",
      " dropout_2 (Dropout)         (None, 127)               0         \n",
      "                                                                 \n",
      " dense_1 (Dense)             (None, 43)                5504      \n",
      "                                                                 \n",
      "=================================================================\n",
      "Total params: 355,103\n",
      "Trainable params: 355,103\n",
      "Non-trainable params: 0\n",
      "_________________________________________________________________\n"
     ]
    }
   ],
   "source": [
    "model.summary()"
   ]
  },
  {
   "cell_type": "code",
   "execution_count": null,
   "id": "e772668b",
   "metadata": {},
   "outputs": [],
   "source": []
  },
  {
   "cell_type": "code",
   "execution_count": 82,
   "id": "1d70fb3d",
   "metadata": {},
   "outputs": [
    {
     "name": "stdout",
     "output_type": "stream",
     "text": [
      "Results summary\n",
      "Results in output\\Traffic_Sign\n",
      "Showing 10 best trials\n",
      "Objective(name='val_accuracy', direction='max')\n",
      "Trial summary\n",
      "Hyperparameters:\n",
      "Filter_Size: 96\n",
      "Kernal: 3\n",
      "Filter_Size1: 96\n",
      "Kernal1: 3\n",
      "Filter_Size2: 64\n",
      "Kernal2: 5\n",
      "Filter_Size3: 64\n",
      "Kernal3: 3\n",
      "dense_1_units: 127\n",
      "Score: 0.993028998374939\n",
      "Trial summary\n",
      "Hyperparameters:\n",
      "Filter_Size: 32\n",
      "Kernal: 3\n",
      "Filter_Size1: 96\n",
      "Kernal1: 5\n",
      "Filter_Size2: 32\n",
      "Kernal2: 5\n",
      "Filter_Size3: 32\n",
      "Kernal3: 5\n",
      "dense_1_units: 91\n",
      "Score: 0.9892459511756897\n",
      "Trial summary\n",
      "Hyperparameters:\n",
      "Filter_Size: 96\n",
      "Kernal: 3\n",
      "Filter_Size1: 64\n",
      "Kernal1: 5\n",
      "Filter_Size2: 64\n",
      "Kernal2: 3\n",
      "Filter_Size3: 64\n",
      "Kernal3: 3\n",
      "dense_1_units: 49\n",
      "Score: 0.6781858478983244\n",
      "Trial summary\n",
      "Hyperparameters:\n",
      "Filter_Size: 64\n",
      "Kernal: 5\n",
      "Filter_Size1: 128\n",
      "Kernal1: 3\n",
      "Filter_Size2: 64\n",
      "Kernal2: 5\n",
      "Filter_Size3: 32\n",
      "Kernal3: 3\n",
      "dense_1_units: 101\n",
      "Score: 0.3707387646039327\n",
      "Trial summary\n",
      "Hyperparameters:\n",
      "Filter_Size: 64\n",
      "Kernal: 5\n",
      "Filter_Size1: 32\n",
      "Kernal1: 3\n",
      "Filter_Size2: 64\n",
      "Kernal2: 3\n",
      "Filter_Size3: 32\n",
      "Kernal3: 5\n",
      "dense_1_units: 95\n",
      "Score: 0.36971861124038696\n"
     ]
    }
   ],
   "source": [
    "Tuner_Search.results_summary()"
   ]
  },
  {
   "cell_type": "code",
   "execution_count": 85,
   "id": "200d4251",
   "metadata": {},
   "outputs": [],
   "source": [
    "Tuned_Model = Sequential()\n",
    "Tuned_Model.add(Conv2D(filters=96, kernel_size=(3,3), activation='relu', input_shape=X_train.shape[1:]))\n",
    "Tuned_Model.add(Conv2D(filters=96, kernel_size=(3,3), activation='relu'))\n",
    "Tuned_Model.add(MaxPool2D())\n",
    "Tuned_Model.add(Dropout(rate=0.25))\n",
    "Tuned_Model.add(Conv2D(filters=64, kernel_size=(5, 5), activation='relu'))\n",
    "Tuned_Model.add(Conv2D(filters=64, kernel_size=(3, 3), activation='relu'))\n",
    "Tuned_Model.add(MaxPool2D())\n",
    "Tuned_Model.add(Dropout(rate=0.25))\n",
    "Tuned_Model.add(Flatten())\n",
    "Tuned_Model.add(Dense(127, activation='relu'))\n",
    "Tuned_Model.add(Dropout(rate=0.5))\n",
    "Tuned_Model.add(Dense(43, activation='softmax'))"
   ]
  },
  {
   "cell_type": "code",
   "execution_count": 86,
   "id": "37d2dda1",
   "metadata": {},
   "outputs": [],
   "source": [
    "Tuned_Model.compile(loss='categorical_crossentropy', optimizer='adam', metrics=['accuracy'])"
   ]
  },
  {
   "cell_type": "code",
   "execution_count": 87,
   "id": "b9914688",
   "metadata": {},
   "outputs": [
    {
     "name": "stdout",
     "output_type": "stream",
     "text": [
      "Epoch 1/15\n",
      "981/981 [==============================] - 103s 105ms/step - loss: 2.1451 - accuracy: 0.4593 - val_loss: 0.4006 - val_accuracy: 0.9002\n",
      "Epoch 2/15\n",
      "981/981 [==============================] - 103s 105ms/step - loss: 0.4995 - accuracy: 0.8628 - val_loss: 0.1571 - val_accuracy: 0.9661\n",
      "Epoch 3/15\n",
      "981/981 [==============================] - 104s 106ms/step - loss: 0.3142 - accuracy: 0.9164 - val_loss: 0.0740 - val_accuracy: 0.9823\n",
      "Epoch 4/15\n",
      "981/981 [==============================] - 103s 105ms/step - loss: 0.2326 - accuracy: 0.9382 - val_loss: 0.0784 - val_accuracy: 0.9807\n",
      "Epoch 5/15\n",
      "981/981 [==============================] - 104s 106ms/step - loss: 0.2341 - accuracy: 0.9394 - val_loss: 0.0650 - val_accuracy: 0.9833\n",
      "Epoch 6/15\n",
      "981/981 [==============================] - 104s 106ms/step - loss: 0.1893 - accuracy: 0.9508 - val_loss: 0.0648 - val_accuracy: 0.9843\n",
      "Epoch 7/15\n",
      "981/981 [==============================] - 103s 105ms/step - loss: 0.1662 - accuracy: 0.9563 - val_loss: 0.0485 - val_accuracy: 0.9894\n",
      "Epoch 8/15\n",
      "981/981 [==============================] - 105s 107ms/step - loss: 0.1604 - accuracy: 0.9574 - val_loss: 0.0501 - val_accuracy: 0.9872\n",
      "Epoch 9/15\n",
      "981/981 [==============================] - 115s 117ms/step - loss: 0.1547 - accuracy: 0.9602 - val_loss: 0.0401 - val_accuracy: 0.9906\n",
      "Epoch 10/15\n",
      "981/981 [==============================] - 111s 113ms/step - loss: 0.1524 - accuracy: 0.9628 - val_loss: 0.0457 - val_accuracy: 0.9894\n",
      "Epoch 11/15\n",
      "981/981 [==============================] - 106s 108ms/step - loss: 0.1708 - accuracy: 0.9580 - val_loss: 0.0506 - val_accuracy: 0.9894\n",
      "Epoch 12/15\n",
      "981/981 [==============================] - 106s 108ms/step - loss: 0.1387 - accuracy: 0.9658 - val_loss: 0.0438 - val_accuracy: 0.9899 0.1384 \n",
      "Epoch 13/15\n",
      "981/981 [==============================] - 106s 108ms/step - loss: 0.1378 - accuracy: 0.9668 - val_loss: 0.0301 - val_accuracy: 0.9934\n",
      "Epoch 14/15\n",
      "981/981 [==============================] - 107s 109ms/step - loss: 0.1524 - accuracy: 0.9650 - val_loss: 0.0269 - val_accuracy: 0.9923\n",
      "Epoch 15/15\n",
      "981/981 [==============================] - 107s 109ms/step - loss: 0.1472 - accuracy: 0.9658 - val_loss: 0.0390 - val_accuracy: 0.9903\n"
     ]
    }
   ],
   "source": [
    "epochs = 15\n",
    "history = Tuned_Model.fit(X_train, y_train, batch_size=32, epochs=epochs, validation_data=(X_test, y_test))"
   ]
  },
  {
   "cell_type": "code",
   "execution_count": 88,
   "id": "e03cd839",
   "metadata": {},
   "outputs": [
    {
     "data": {
      "image/png": "[encoded data removed]",
      "text/plain": [
       "<Figure size 432x288 with 1 Axes>"
      ]
     },
     "metadata": {
      "needs_background": "light"
     },
     "output_type": "display_data"
    },
    {
     "data": {
      "image/png": "[encoded data removed]",
      "text/plain": [
       "<Figure size 432x288 with 1 Axes>"
      ]
     },
     "metadata": {
      "needs_background": "light"
     },
     "output_type": "display_data"
    }
   ],
   "source": [
    "plt.figure(0)\n",
    "plt.plot(history.history['accuracy'], label='training accuracy')\n",
    "plt.plot(history.history['val_accuracy'], label='val accuracy')\n",
    "plt.title('Accuracy')\n",
    "plt.xlabel('epochs')\n",
    "plt.ylabel('accuracy')\n",
    "plt.legend()\n",
    "plt.show()\n",
    "plt.figure(1)\n",
    "plt.plot(history.history['loss'], label='training loss')\n",
    "plt.plot(history.history['val_loss'], label='val loss')\n",
    "plt.title('Loss')\n",
    "plt.xlabel('epochs')\n",
    "plt.ylabel('loss')\n",
    "plt.legend()\n",
    "plt.show()"
   ]
  },
  {
   "cell_type": "code",
   "execution_count": 89,
   "id": "c2aa5bdf",
   "metadata": {},
   "outputs": [
    {
     "name": "stdout",
     "output_type": "stream",
     "text": [
      "98.0\n"
     ]
    }
   ],
   "source": [
    "\n",
    "pred = Tuned_Model.predict(X_test)\n",
    "\n",
    "from sklearn.metrics import r2_score\n",
    "\n",
    "print(np.round(r2_score(y_test,pred)*100,0))"
   ]
  },
  {
   "cell_type": "markdown",
   "id": "be6b311a",
   "metadata": {},
   "source": [
    "### Cross Validation Model"
   ]
  },
  {
   "cell_type": "code",
   "execution_count": null,
   "id": "23fe65c8",
   "metadata": {},
   "outputs": [],
   "source": []
  }
 ],
 "metadata": {
  "kernelspec": {
   "display_name": "Python 3 (ipykernel)",
   "language": "python",
   "name": "python3"
  },
  "language_info": {
   "codemirror_mode": {
    "name": "ipython",
    "version": 3
   },
   "file_extension": ".py",
   "mimetype": "text/x-python",
   "name": "python",
   "nbconvert_exporter": "python",
   "pygments_lexer": "ipython3",
   "version": "3.9.7"
  }
 },
 "nbformat": 4,
 "nbformat_minor": 5
}
